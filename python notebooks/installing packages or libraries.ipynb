{
 "cells": [
  {
   "cell_type": "code",
   "execution_count": 1,
   "metadata": {},
   "outputs": [
    {
     "data": {
      "text/plain": [
       "['',\n",
       " 'C:\\\\Users\\\\Ashoo\\\\Miniconda3\\\\python36.zip',\n",
       " 'C:\\\\Users\\\\Ashoo\\\\Miniconda3\\\\DLLs',\n",
       " 'C:\\\\Users\\\\Ashoo\\\\Miniconda3\\\\lib',\n",
       " 'C:\\\\Users\\\\Ashoo\\\\Miniconda3',\n",
       " 'C:\\\\Users\\\\Ashoo\\\\AppData\\\\Roaming\\\\Python\\\\Python36\\\\site-packages',\n",
       " 'C:\\\\Users\\\\Ashoo\\\\Miniconda3\\\\lib\\\\site-packages',\n",
       " 'C:\\\\Users\\\\Ashoo\\\\Miniconda3\\\\lib\\\\site-packages\\\\win32',\n",
       " 'C:\\\\Users\\\\Ashoo\\\\Miniconda3\\\\lib\\\\site-packages\\\\win32\\\\lib',\n",
       " 'C:\\\\Users\\\\Ashoo\\\\Miniconda3\\\\lib\\\\site-packages\\\\Pythonwin',\n",
       " 'C:\\\\Users\\\\Ashoo\\\\Miniconda3\\\\lib\\\\site-packages\\\\IPython\\\\extensions',\n",
       " 'C:\\\\Users\\\\Ashoo\\\\.ipython']"
      ]
     },
     "execution_count": 1,
     "metadata": {},
     "output_type": "execute_result"
    }
   ],
   "source": [
    "# How python locates packages\n",
    "import sys\n",
    "sys.path"
   ]
  },
  {
   "cell_type": "code",
   "execution_count": null,
   "metadata": {},
   "outputs": [],
   "source": [
    "# install the sklearn library\n",
    "!conda install --yes --prefix {sys.prefix} scikit-learn"
   ]
  },
  {
   "cell_type": "code",
   "execution_count": 1,
   "metadata": {},
   "outputs": [],
   "source": [
    "# check if pandas library is installed or not\n",
    "import pandas as pd"
   ]
  },
  {
   "cell_type": "code",
   "execution_count": 2,
   "metadata": {},
   "outputs": [
    {
     "data": {
      "text/html": [
       "<div>\n",
       "<style scoped>\n",
       "    .dataframe tbody tr th:only-of-type {\n",
       "        vertical-align: middle;\n",
       "    }\n",
       "\n",
       "    .dataframe tbody tr th {\n",
       "        vertical-align: top;\n",
       "    }\n",
       "\n",
       "    .dataframe thead th {\n",
       "        text-align: right;\n",
       "    }\n",
       "</style>\n",
       "<table border=\"1\" class=\"dataframe\">\n",
       "  <thead>\n",
       "    <tr style=\"text-align: right;\">\n",
       "      <th></th>\n",
       "      <th>color</th>\n",
       "      <th>size</th>\n",
       "      <th>prize</th>\n",
       "      <th>class label</th>\n",
       "    </tr>\n",
       "  </thead>\n",
       "  <tbody>\n",
       "    <tr>\n",
       "      <th>0</th>\n",
       "      <td>green</td>\n",
       "      <td>M</td>\n",
       "      <td>10.1</td>\n",
       "      <td>class1</td>\n",
       "    </tr>\n",
       "    <tr>\n",
       "      <th>1</th>\n",
       "      <td>red</td>\n",
       "      <td>L</td>\n",
       "      <td>13.5</td>\n",
       "      <td>class2</td>\n",
       "    </tr>\n",
       "    <tr>\n",
       "      <th>2</th>\n",
       "      <td>blue</td>\n",
       "      <td>XL</td>\n",
       "      <td>15.3</td>\n",
       "      <td>class1</td>\n",
       "    </tr>\n",
       "  </tbody>\n",
       "</table>\n",
       "</div>"
      ],
      "text/plain": [
       "   color size  prize class label\n",
       "0  green    M   10.1      class1\n",
       "1    red    L   13.5      class2\n",
       "2   blue   XL   15.3      class1"
      ]
     },
     "execution_count": 2,
     "metadata": {},
     "output_type": "execute_result"
    }
   ],
   "source": [
    "df = pd.DataFrame([\n",
    "            ['green', 'M', 10.1, 'class1'], \n",
    "            ['red', 'L', 13.5, 'class2'], \n",
    "            ['blue', 'XL', 15.3, 'class1']])\n",
    "\n",
    "df.columns = ['color', 'size', 'prize', 'class label']\n",
    "df"
   ]
  },
  {
   "cell_type": "code",
   "execution_count": 2,
   "metadata": {},
   "outputs": [
    {
     "name": "stdout",
     "output_type": "stream",
     "text": [
      "Solving environment: ...working... done\n",
      "\n",
      "## Package Plan ##\n",
      "\n",
      "  environment location: C:\\Users\\Ashoo\\Miniconda3\n",
      "\n",
      "  added / updated specs: \n",
      "    - seaborn\n",
      "\n",
      "\n",
      "The following packages will be downloaded:\n",
      "\n",
      "    package                    |            build\n",
      "    ---------------------------|-----------------\n",
      "    seaborn-0.9.0              |           py36_0         379 KB\n",
      "\n",
      "The following NEW packages will be INSTALLED:\n",
      "\n",
      "    seaborn: 0.9.0-py36_0\n",
      "\n",
      "\n",
      "Downloading and Extracting Packages\n",
      "Preparing transaction: ...working... done\n",
      "Verifying transaction: ...working... done\n",
      "Executing transaction: ...working... done\n"
     ]
    },
    {
     "name": "stderr",
     "output_type": "stream",
     "text": [
      "\n",
      "seaborn-0.9.0        | 379 KB    |            |   0% \n",
      "seaborn-0.9.0        | 379 KB    | 3          |   3% \n",
      "seaborn-0.9.0        | 379 KB    | 6          |   6% \n",
      "seaborn-0.9.0        | 379 KB    | #2         |  13% \n",
      "seaborn-0.9.0        | 379 KB    | #5         |  16% \n",
      "seaborn-0.9.0        | 379 KB    | #8         |  19% \n",
      "seaborn-0.9.0        | 379 KB    | ##2        |  22% \n",
      "seaborn-0.9.0        | 379 KB    | ##5        |  25% \n",
      "seaborn-0.9.0        | 379 KB    | ##8        |  28% \n",
      "seaborn-0.9.0        | 379 KB    | ###4       |  35% \n",
      "seaborn-0.9.0        | 379 KB    | ####1      |  41% \n",
      "seaborn-0.9.0        | 379 KB    | ####4      |  44% \n",
      "seaborn-0.9.0        | 379 KB    | #####      |  51% \n",
      "seaborn-0.9.0        | 379 KB    | ######     |  60% \n",
      "seaborn-0.9.0        | 379 KB    | ######9    |  70% \n",
      "seaborn-0.9.0        | 379 KB    | #######5   |  75% \n",
      "seaborn-0.9.0        | 379 KB    | ########4  |  84% \n",
      "seaborn-0.9.0        | 379 KB    | #########1 |  92% \n",
      "seaborn-0.9.0        | 379 KB    | ########## | 100% \n"
     ]
    }
   ],
   "source": [
    "# install the seaborn library\n",
    "# install the sklearn library\n",
    "!conda install --yes --prefix {sys.prefix} seaborn"
   ]
  },
  {
   "cell_type": "markdown",
   "metadata": {},
   "source": [
    "#### Check installed packages and their version's"
   ]
  },
  {
   "cell_type": "code",
   "execution_count": 3,
   "metadata": {},
   "outputs": [
    {
     "name": "stdout",
     "output_type": "stream",
     "text": [
      "aiodns==1.1.1\n",
      "aiohttp==3.4.4\n",
      "alembic==1.0.0\n",
      "appdirs==1.4.3\n",
      "asn1crypto==0.24.0\n",
      "async-timeout==3.0.0\n",
      "attrs==18.1.0\n",
      "Automat==0.7.0\n",
      "backcall==0.1.0\n",
      "banal==0.3.7\n",
      "beautifulsoup4==4.6.3\n",
      "bleach==2.1.3\n",
      "cchardet==2.1.4\n",
      "certifi==2018.8.24\n",
      "cffi==1.11.5\n",
      "chardet==3.0.4\n",
      "colorama==0.3.9\n",
      "conda==4.5.11\n",
      "constantly==15.1.0\n",
      "cryptography==2.2.2\n",
      "cssselect==1.0.3\n",
      "cycler==0.10.0\n",
      "dataset==1.1.0\n",
      "decorator==4.3.0\n",
      "elasticsearch==6.3.1\n",
      "eli5==0.8\n",
      "entrypoints==0.2.3\n",
      "graphviz==0.9\n",
      "html5lib==1.0.1\n",
      "hyperlink==18.0.0\n",
      "idna==2.6\n",
      "idna-ssl==1.1.0\n",
      "incremental==17.5.0\n",
      "ipykernel==4.8.2\n",
      "ipython==6.5.0\n",
      "ipython-genutils==0.2.0\n",
      "ipywidgets==7.4.0\n",
      "jedi==0.12.1\n",
      "Jinja2==2.10\n",
      "jsonschema==2.6.0\n",
      "jupyter==1.0.0\n",
      "jupyter-client==5.2.3\n",
      "jupyter-console==5.2.0\n",
      "jupyter-core==4.4.0\n",
      "kiwisolver==1.0.1\n",
      "lxml==4.2.4\n",
      "Mako==1.0.7\n",
      "MarkupSafe==1.0\n",
      "matplotlib==2.2.3\n",
      "menuinst==1.4.14\n",
      "mistune==0.8.3\n",
      "mkl-fft==1.0.4\n",
      "mkl-random==1.0.1\n",
      "multidict==4.4.2\n",
      "nbconvert==5.3.1\n",
      "nbformat==4.4.0\n",
      "normality==0.6.1\n",
      "notebook==5.6.0\n",
      "numpy==1.15.0\n",
      "oauthlib==2.1.0\n",
      "pandas==0.23.4\n",
      "pandocfilters==1.4.2\n",
      "parsel==1.5.0\n",
      "parso==0.3.1\n",
      "patsy==0.5.0\n",
      "pickleshare==0.7.4\n",
      "pip==18.0\n",
      "prometheus-client==0.3.1\n",
      "prompt-toolkit==1.0.15\n",
      "pyasn1==0.4.4\n",
      "pyasn1-modules==0.2.2\n",
      "pycares==2.3.0\n",
      "pycosat==0.6.3\n",
      "pycparser==2.18\n",
      "PyDispatcher==2.0.5\n",
      "Pygments==2.2.0\n",
      "PyHamcrest==1.9.0\n",
      "pyOpenSSL==18.0.0\n",
      "pyparsing==2.2.0\n",
      "pyquery==1.4.0\n",
      "PySocks==1.6.8\n",
      "python-dateutil==2.7.3\n",
      "python-editor==1.0.3\n",
      "pytz==2018.5\n",
      "pywin32==223\n",
      "pywinpty==0.5.4\n",
      "PyYAML==3.13\n",
      "pyzmq==17.1.0\n",
      "qtconsole==4.3.1\n",
      "queuelib==1.5.0\n",
      "requests==2.19.1\n",
      "requests-oauthlib==1.0.0\n",
      "ruamel-yaml==0.15.37\n",
      "schedule==0.5.0\n",
      "scikit-learn==0.19.1\n",
      "scipy==1.1.0\n",
      "Scrapy==1.5.1\n",
      "seaborn==0.9.0\n",
      "searchtweets==1.7.1\n",
      "selenium==3.14.0\n",
      "Send2Trash==1.5.0\n",
      "service-identity==17.0.0\n",
      "setuptools==39.2.0\n",
      "simplegeneric==0.8.1\n",
      "singledispatch==3.4.0.3\n",
      "six==1.11.0\n",
      "SQLAlchemy==1.2.11\n",
      "statsmodels==0.9.0\n",
      "tabulate==0.8.2\n",
      "terminado==0.8.1\n",
      "testpath==0.3.1\n",
      "tornado==5.1\n",
      "traitlets==4.3.2\n",
      "tweepy==3.6.0\n",
      "tweet-parser==1.13.1\n",
      "twint==1.1.4.3\n",
      "Twisted==18.7.0\n",
      "typing==3.6.6\n",
      "urllib3==1.22\n",
      "w3lib==1.19.0\n",
      "watermark==1.6.1\n",
      "wcwidth==0.1.7\n",
      "webencodings==0.5.1\n",
      "wheel==0.31.1\n",
      "widgetsnbextension==3.4.0\n",
      "win-inet-pton==1.0.1\n",
      "wincertstore==0.2\n",
      "yarl==1.2.6\n",
      "zope.interface==4.5.0\n"
     ]
    }
   ],
   "source": [
    "from pip._internal.operations.freeze import freeze\n",
    "for requirement in freeze(local_only=True):\n",
    "    print(requirement)"
   ]
  },
  {
   "cell_type": "code",
   "execution_count": null,
   "metadata": {},
   "outputs": [],
   "source": [
    "# install the fast.ai package\n",
    "!conda install -c fastai fastai"
   ]
  },
  {
   "cell_type": "code",
   "execution_count": null,
   "metadata": {},
   "outputs": [],
   "source": [
    "# install the keras package\n",
    "!conda install keras"
   ]
  },
  {
   "cell_type": "markdown",
   "metadata": {},
   "source": [
    "#### How to install pytorch in windows 7 cpu based system (i.e. no GPU)"
   ]
  },
  {
   "cell_type": "markdown",
   "metadata": {},
   "source": [
    "go to the official website: http://pytorch.org/\n",
    "\n",
    "1. Select Windows as your operating system\n",
    "2. Select your Package Manager such as pip or conda\n",
    "3. Select you python version\n",
    "4. Select CUDA or choose none You will get the command that will install pytorch on your system based on your selection.\n",
    "\n",
    "For example, if you choose Windows, pip, python 3.6 and none in the listed steps, you will get the following commands:\n",
    "    \n",
    "`conda install pytorch-cpu -c pytorch`\n",
    "\n",
    "`pip3 install torchvision`\n",
    "\n",
    "Open command prompt in your python path location. In my case its, `C:\\Users\\username\\Miniconda3` and execute the above conda or pip3 command to install pytorch."
   ]
  },
  {
   "cell_type": "code",
   "execution_count": null,
   "metadata": {},
   "outputs": [],
   "source": []
  }
 ],
 "metadata": {
  "kernelspec": {
   "display_name": "Python 3",
   "language": "python",
   "name": "python3"
  },
  "language_info": {
   "codemirror_mode": {
    "name": "ipython",
    "version": 3
   },
   "file_extension": ".py",
   "mimetype": "text/x-python",
   "name": "python",
   "nbconvert_exporter": "python",
   "pygments_lexer": "ipython3",
   "version": "3.6.5"
  }
 },
 "nbformat": 4,
 "nbformat_minor": 2
}
