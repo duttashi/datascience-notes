{
 "cells": [
  {
   "cell_type": "markdown",
   "metadata": {},
   "source": [
    "Python Fundamentals\n",
    "\n",
    "- Variables, Expressions and Statements\n",
    "\n",
    "Reference: https://www.py4e.com/lessons"
   ]
  },
  {
   "cell_type": "markdown",
   "metadata": {},
   "source": [
    "2.3 Write a program to prompt the user for hours and rate per hour using input to compute gross pay. Use 35 hours and a rate of 2.75 per hour to test the program (the pay should be 96.25). You should use input to read a string and float() to convert the string to a number. Do not worry about error checking or bad user data."
   ]
  },
  {
   "cell_type": "code",
   "execution_count": 1,
   "metadata": {},
   "outputs": [
    {
     "name": "stdout",
     "output_type": "stream",
     "text": [
      "Enter Hours:35\n",
      "Enter rate per hour:2.75\n"
     ]
    },
    {
     "ename": "TypeError",
     "evalue": "can't multiply sequence by non-int of type 'float'",
     "output_type": "error",
     "traceback": [
      "\u001b[1;31m---------------------------------------------------------------------------\u001b[0m",
      "\u001b[1;31mTypeError\u001b[0m                                 Traceback (most recent call last)",
      "\u001b[1;32m<ipython-input-1-6d2c6fb02932>\u001b[0m in \u001b[0;36m<module>\u001b[1;34m()\u001b[0m\n\u001b[0;32m      6\u001b[0m \u001b[1;31m# convert rate per hour to float\u001b[0m\u001b[1;33m\u001b[0m\u001b[1;33m\u001b[0m\u001b[0m\n\u001b[0;32m      7\u001b[0m \u001b[0mrph\u001b[0m\u001b[1;33m=\u001b[0m \u001b[0mfloat\u001b[0m\u001b[1;33m(\u001b[0m\u001b[0mrph\u001b[0m\u001b[1;33m)\u001b[0m\u001b[1;33m\u001b[0m\u001b[0m\n\u001b[1;32m----> 8\u001b[1;33m \u001b[0mpay\u001b[0m \u001b[1;33m=\u001b[0m \u001b[0mhrs\u001b[0m\u001b[1;33m*\u001b[0m \u001b[0mrph\u001b[0m\u001b[1;33m\u001b[0m\u001b[0m\n\u001b[0m\u001b[0;32m      9\u001b[0m \u001b[0mprint\u001b[0m\u001b[1;33m(\u001b[0m\u001b[1;34m\"Your pay is: \"\u001b[0m\u001b[1;33m,\u001b[0m \u001b[0mpay\u001b[0m\u001b[1;33m)\u001b[0m\u001b[1;33m\u001b[0m\u001b[0m\n",
      "\u001b[1;31mTypeError\u001b[0m: can't multiply sequence by non-int of type 'float'"
     ]
    }
   ],
   "source": [
    "hrs = input(\"Enter Hours:\")\n",
    "type(hrs)\n",
    "rph = input(\"Enter rate per hour:\")\n",
    "type(rph)\n",
    "\n",
    "# convert rate per hour to float\n",
    "rph= float(rph)\n",
    "pay = hrs* rph\n",
    "print(\"Your pay is: \", pay)"
   ]
  },
  {
   "cell_type": "markdown",
   "metadata": {},
   "source": [
    "See this [SO post](https://stackoverflow.com/questions/485789/why-do-i-get-typeerror-cant-multiply-sequence-by-non-int-of-type-float/27488582)"
   ]
  },
  {
   "cell_type": "code",
   "execution_count": 1,
   "metadata": {},
   "outputs": [
    {
     "name": "stdout",
     "output_type": "stream",
     "text": [
      "Enter Hours:10\n",
      "Data type is  <class 'str'>\n",
      "Enter rate per hour:2.3\n",
      "Data type is  <class 'str'>\n"
     ]
    }
   ],
   "source": [
    "hrs = input(\"Enter Hours:\")\n",
    "print (\"Data type is \",type(hrs))\n",
    "rph = input(\"Enter rate per hour:\")\n",
    "print (\"Data type is \",type(rph))"
   ]
  },
  {
   "cell_type": "code",
   "execution_count": 4,
   "metadata": {},
   "outputs": [
    {
     "name": "stdout",
     "output_type": "stream",
     "text": [
      "Enter Hours:35\n",
      "Enter rate per hour:2.65\n",
      "Your pay is:  92.75\n"
     ]
    }
   ],
   "source": [
    "hrs = float(input(\"Enter Hours:\"))\n",
    "rph = float(input(\"Enter rate per hour:\"))\n",
    "\n",
    "# convert rate per hour to float\n",
    "pay = hrs* rph\n",
    "print(\"Your pay is: \", pay)"
   ]
  },
  {
   "cell_type": "markdown",
   "metadata": {},
   "source": [
    "### Conditional Execution\n",
    "\n",
    "IF Statement"
   ]
  },
  {
   "cell_type": "markdown",
   "metadata": {},
   "source": [
    "3.1 Write a program to prompt the user for hours and rate per hour using input to compute gross pay. Pay the hourly rate for the hours up to 40 and 1.5 times the hourly rate for all hours worked above 40 hours. Use 45 hours and a rate of 10.50 per hour to test the program (the pay should be 498.75). You should use input to read a string and float() to convert the string to a number. Do not worry about error checking the user input - assume the user types numbers properly."
   ]
  },
  {
   "cell_type": "code",
   "execution_count": 7,
   "metadata": {},
   "outputs": [
    {
     "name": "stdout",
     "output_type": "stream",
     "text": [
      "Enter Hours:40\n",
      "Enter rate per hour:10.50\n",
      "Your pay is:  420.0\n"
     ]
    }
   ],
   "source": [
    "hrs = float(input(\"Enter Hours:\"))\n",
    "rph = float(input(\"Enter rate per hour:\"))\n",
    "\n",
    "# convert rate per hour to float\n",
    "pay = hrs* rph\n",
    "\n",
    "if (hrs<=40):\n",
    "    pay = hrs*rph\n",
    "if (hrs>40):\n",
    "    #rph = 1.5*rph\n",
    "    pay = hrs*1.5*rph\n",
    "    \n",
    "print(\"Your pay is: \", pay)"
   ]
  },
  {
   "cell_type": "markdown",
   "metadata": {},
   "source": [
    "3.3 Write a program to prompt for a score between `0.0` and `1.0`. If the score is out of range, print an error. If the score is between `0.0` and `1.0`, print a grade using the following table:\n",
    "    \n",
    "Score    Grade\n",
    "\n",
    "`>= 0.9`   A\n",
    "\n",
    "`>= 0.8`   B\n",
    "\n",
    "`>= 0.7`   C\n",
    "\n",
    "`>= 0.6`   D\n",
    "\n",
    "`< 0.6`    F\n",
    "\n",
    "If the user enters a value out of range, print a suitable error message and exit. For the test, enter a score of 0.85."
   ]
  },
  {
   "cell_type": "code",
   "execution_count": 20,
   "metadata": {},
   "outputs": [
    {
     "name": "stdout",
     "output_type": "stream",
     "text": [
      "Enter Score: 0.7\n",
      "C\n"
     ]
    }
   ],
   "source": [
    "score = float(input(\"Enter Score: \"))\n",
    "\n",
    "type(score)\n",
    "\n",
    "if (score>1.0):\n",
    "    print (\"Sorry! Out of range value\")\n",
    "if (score<= 1.0 and score >=0.0):\n",
    "    if(score >= 0.9):\n",
    "        print (\"A\")\n",
    "    elif(score >= 0.8):\n",
    "        print (\"B\")\n",
    "    elif(score >= 0.7):\n",
    "        print (\"C\")\n",
    "    elif(score >= 0.6):\n",
    "        print (\"D\")\n",
    "    elif(score < 0.6):\n",
    "        print (\"F\")\n",
    "    else:\n",
    "        print (\"Logic is wrong\")"
   ]
  },
  {
   "cell_type": "code",
   "execution_count": null,
   "metadata": {},
   "outputs": [],
   "source": []
  }
 ],
 "metadata": {
  "kernelspec": {
   "display_name": "Python 3",
   "language": "python",
   "name": "python3"
  },
  "language_info": {
   "codemirror_mode": {
    "name": "ipython",
    "version": 3
   },
   "file_extension": ".py",
   "mimetype": "text/x-python",
   "name": "python",
   "nbconvert_exporter": "python",
   "pygments_lexer": "ipython3",
   "version": "3.6.5"
  }
 },
 "nbformat": 4,
 "nbformat_minor": 2
}
