{
 "cells": [
  {
   "cell_type": "code",
   "execution_count": 1,
   "metadata": {},
   "outputs": [
    {
     "name": "stdout",
     "output_type": "stream",
     "text": [
      "\n",
      "The following command must be run outside of the IPython shell:\n",
      "\n",
      "    $ pip install tweepy\n",
      "\n",
      "The Python package manager (pip) can only be used from outside of IPython.\n",
      "Please reissue the `pip` command in a separate terminal or command prompt.\n",
      "\n",
      "See the Python documentation for more information on how to install packages:\n",
      "\n",
      "    https://docs.python.org/3/installing/\n"
     ]
    }
   ],
   "source": [
    "pip install tweepy"
   ]
  },
  {
   "cell_type": "markdown",
   "metadata": {},
   "source": [
    "Steps to install python packages if using IPython\n",
    "\n",
    "Step 1: Browse to python location on your computer. In my case its in `c:\\Users\\myusername\\Miniconda3`\n",
    "Step 2: Open command prompt in this location\n",
    "Step 3: Type `pip install <package name>` and press enter key\n",
    "Step 4: Package will be installed"
   ]
  },
  {
   "cell_type": "markdown",
   "metadata": {},
   "source": [
    "#### Check installed packages and their versions"
   ]
  },
  {
   "cell_type": "code",
   "execution_count": 3,
   "metadata": {},
   "outputs": [
    {
     "name": "stdout",
     "output_type": "stream",
     "text": [
      "\n",
      "Please wait a moment while I gather a list of all available modules...\n",
      "\n"
     ]
    },
    {
     "name": "stderr",
     "output_type": "stream",
     "text": [
      "C:\\Users\\Ashoo\\Miniconda3\\lib\\site-packages\\IPython\\kernel\\__init__.py:13: ShimWarning: The `IPython.kernel` package has been deprecated since IPython 4.0.You should import from ipykernel or jupyter_client instead.\n",
      "  \"You should import from ipykernel or jupyter_client instead.\", ShimWarning)\n",
      "C:\\Users\\Ashoo\\Miniconda3\\lib\\importlib\\_bootstrap.py:219: RuntimeWarning: numpy.ndarray size changed, may indicate binary incompatibility. Expected 80, got 16\n",
      "  return f(*args, **kwds)\n"
     ]
    },
    {
     "name": "stdout",
     "output_type": "stream",
     "text": [
      "_cffi_ext.c\n",
      "c:\\users\\ashoo\\miniconda3\\include\\pyconfig.h(59): fatal error C1083: Cannot open include file: 'io.h': No such file or directory\n"
     ]
    },
    {
     "name": "stderr",
     "output_type": "stream",
     "text": [
      "C:\\Users\\Ashoo\\Miniconda3\\lib\\pkgutil.py:107: VisibleDeprecationWarning: zmq.eventloop.minitornado is deprecated in pyzmq 14.0 and will be removed.\n",
      "    Install tornado itself to use zmq with the tornado IOLoop.\n",
      "    \n",
      "  yield from walk_packages(path, info.name+'.', onerror)\n"
     ]
    },
    {
     "name": "stdout",
     "output_type": "stream",
     "text": [
      "IPython             cgitb               modulefinder        struct\n",
      "OpenSSL             chardet             msilib              subprocess\n",
      "PyQt5               chunk               msvcrt              sunau\n",
      "__future__          cmath               multiprocessing     symbol\n",
      "_ast                cmd                 nbconvert           sympyprinting\n",
      "_asyncio            code                nbformat            symtable\n",
      "_bisect             codecs              netbios             sys\n",
      "_blake2             codeop              netrc               sysconfig\n",
      "_bootlocale         collections         nntplib             tabnanny\n",
      "_bz2                colorama            normality           tarfile\n",
      "_cffi_backend       colorsys            notebook            telnetlib\n",
      "_codecs             commctrl            nt                  tempfile\n",
      "_codecs_cn          compileall          ntpath              terminado\n",
      "_codecs_hk          concurrent          ntsecuritycon       test\n",
      "_codecs_iso2022     conda               nturl2path          test_pycosat\n",
      "_codecs_jp          conda_env           numbers             testpath\n",
      "_codecs_kr          configparser        numpy               tests\n",
      "_codecs_tw          constantly          oauthlib            textwrap\n",
      "_collections        contextlib          odbc                this\n",
      "_collections_abc    copy                opcode              threading\n",
      "_compat_pickle      copyreg             operator            time\n",
      "_compression        crypt               optparse            timeit\n",
      "_csv                cryptography        os                  timer\n",
      "_ctypes             csv                 pandas              tkinter\n",
      "_ctypes_test        ctypes              pandocfilters       token\n",
      "_datetime           curses              parser              tokenize\n",
      "_decimal            cwp                 parso               tornado\n",
      "_distutils_findvs   cythonmagic         pathlib             trace\n",
      "_dummy_thread       dataset             patsy               traceback\n",
      "_elementtree        datetime            pdb                 tracemalloc\n",
      "_functools          dateutil            perfmon             traitlets\n",
      "_hashlib            dbi                 pickle              tty\n",
      "_heapq              dbm                 pickleshare         turtle\n",
      "_imp                dde                 pickletools         turtledemo\n",
      "_io                 decimal             pip                 tweepy\n",
      "_json               decorator           pipes               twisted\n",
      "_locale             difflib             pkg_resources       types\n",
      "_lsprof             dis                 pkgutil             typing\n",
      "_lzma               distutils           platform            unicodedata\n",
      "_markupbase         doctest             plistlib            unittest\n",
      "_md5                dummy_threading     poplib              urllib\n",
      "_msi                easy_install        posixpath           urllib3\n",
      "_multibytecodec     editor              pprint              uu\n",
      "_multiprocessing    email               profile             uuid\n",
      "_nsis               encodings           prometheus_client   venv\n",
      "_opcode             ensurepip           prompt_toolkit      warnings\n",
      "_operator           entrypoints         pstats              wave\n",
      "_osx_support        enum                pty                 wcwidth\n",
      "_overlapped         errno               py_compile          weakref\n",
      "_pickle             examples            pyasn1              webbrowser\n",
      "_pydecimal          faulthandler        pyasn1_modules      webencodings\n",
      "_pyio               filecmp             pyclbr              wheel\n",
      "_random             fileinput           pycosat             widgetsnbextension\n",
      "_sha1               fnmatch             pycparser           win2kras\n",
      "_sha256             formatter           pydoc               win32api\n",
      "_sha3               fractions           pydoc_data          win32clipboard\n",
      "_sha512             ftplib              pyexpat             win32com\n",
      "_signal             functools           pygments            win32con\n",
      "_sitebuiltins       gc                  pythoncom           win32console\n",
      "_socket             genericpath         pytz                win32cred\n",
      "_sqlite3            getopt              pywin               win32crypt\n",
      "_sre                getpass             pywin32_testutil    win32cryptcon\n",
      "_ssl                gettext             pywintypes          win32event\n",
      "_stat               glob                qtconsole           win32evtlog\n",
      "_string             gzip                queue               win32evtlogutil\n",
      "_strptime           hashlib             quopri              win32file\n",
      "_struct             heapq               random              win32gui\n",
      "_symtable           hmac                rasutil             win32gui_struct\n",
      "_system_path        html                re                  win32help\n",
      "_testbuffer         html5lib            regcheck            win32inet\n",
      "_testcapi           http                regutil             win32inetcon\n",
      "_testconsole        hyperlink           reprlib             win32job\n",
      "_testimportmultiple idlelib             requests            win32lz\n",
      "_testmultiphase     idna                requests_oauthlib   win32net\n",
      "_thread             imaplib             rlcompleter         win32netcon\n",
      "_threading_local    imghdr              rmagic              win32pdh\n",
      "_tkinter            imp                 ruamel_yaml         win32pdhquery\n",
      "_tracemalloc        importlib           runpy               win32pdhutil\n",
      "_warnings           incremental         sched               win32pipe\n",
      "_weakref            inspect             scipy               win32print\n",
      "_weakrefset         io                  secrets             win32process\n",
      "_win32sysloader     ipaddress           select              win32profile\n",
      "_winapi             ipykernel           selectors           win32ras\n",
      "_winxptheme         ipykernel_launcher  send2trash          win32rcparser\n",
      "abc                 ipython_genutils    service_identity    win32security\n",
      "adodbapi            ipywidgets          servicemanager      win32service\n",
      "afxres              isapi               setuptools          win32serviceutil\n",
      "aifc                itertools           shelve              win32timezone\n",
      "alembic             jedi                shlex               win32trace\n",
      "antigravity         jinja2              shutil              win32traceutil\n",
      "appdirs             json                signal              win32transaction\n",
      "argparse            jsonschema          simple_crawler      win32ts\n",
      "array               jupyter             simplegeneric       win32ui\n",
      "asn1crypto          jupyter_client      sip                 win32uiole\n",
      "ast                 jupyter_console     sipconfig           win32verstamp\n",
      "asynchat            jupyter_core        sipdistutils        win32wnet\n",
      "asyncio             keyword             site                win_inet_pton\n",
      "asyncore            lib2to3             six                 wincertstore\n",
      "atexit              linecache           smtpd               winerror\n",
      "attr                locale              smtplib             winioctlcon\n",
      "audioop             logging             sndhdr              winnt\n",
      "automat             lxml                socket              winperf\n",
      "autoreload          lzma                socketserver        winpty\n",
      "backcall            macpath             socks               winreg\n",
      "banal               macurl2path         sockshandler        winsound\n",
      "base64              mailbox             sqlalchemy          winxpgui\n",
      "bdb                 mailcap             sqlite3             winxptheme\n",
      "binascii            mako                sre_compile         wsgiref\n",
      "binhex              markupsafe          sre_constants       xdrlib\n",
      "bisect              marshal             sre_parse           xml\n",
      "bleach              math                ssl                 xmlrpc\n",
      "bs4                 menuinst            sspi                xxsubtype\n",
      "builtins            mimetypes           sspicon             zipapp\n",
      "bz2                 mistune             stat                zipfile\n",
      "cProfile            mkl_fft             statistics          zipimport\n",
      "calendar            mkl_random          statsmodels         zlib\n",
      "certifi             mmap                storemagic          zmq\n"
     ]
    },
    {
     "name": "stdout",
     "output_type": "stream",
     "text": [
      "cffi                mmapfile            string              zope\n",
      "cgi                 mmsystem            stringprep          \n",
      "\n",
      "Enter any module name to get more help.  Or, type \"modules spam\" to search\n",
      "for modules whose name or summary contain the string \"spam\".\n",
      "\n"
     ]
    }
   ],
   "source": [
    "help('modules')"
   ]
  },
  {
   "cell_type": "code",
   "execution_count": 5,
   "metadata": {},
   "outputs": [
    {
     "name": "stdout",
     "output_type": "stream",
     "text": [
      "Help on package tweepy:\n",
      "\n",
      "NAME\n",
      "    tweepy - Tweepy Twitter API library\n",
      "\n",
      "PACKAGE CONTENTS\n",
      "    api\n",
      "    auth\n",
      "    binder\n",
      "    cache\n",
      "    cursor\n",
      "    error\n",
      "    models\n",
      "    parsers\n",
      "    streaming\n",
      "    utils\n",
      "\n",
      "FUNCTIONS\n",
      "    debug(enable=True, level=1)\n",
      "\n",
      "DATA\n",
      "    __license__ = 'MIT'\n",
      "    api = <tweepy.api.API object>\n",
      "\n",
      "VERSION\n",
      "    3.6.0\n",
      "\n",
      "AUTHOR\n",
      "    Joshua Roesslein\n",
      "\n",
      "FILE\n",
      "    c:\\users\\ashoo\\miniconda3\\lib\\site-packages\\tweepy\\__init__.py\n",
      "\n",
      "\n"
     ]
    }
   ],
   "source": [
    "help('tweepy')"
   ]
  }
 ],
 "metadata": {
  "kernelspec": {
   "display_name": "Python 3",
   "language": "python",
   "name": "python3"
  },
  "language_info": {
   "codemirror_mode": {
    "name": "ipython",
    "version": 3
   },
   "file_extension": ".py",
   "mimetype": "text/x-python",
   "name": "python",
   "nbconvert_exporter": "python",
   "pygments_lexer": "ipython3",
   "version": "3.6.5"
  }
 },
 "nbformat": 4,
 "nbformat_minor": 2
}
